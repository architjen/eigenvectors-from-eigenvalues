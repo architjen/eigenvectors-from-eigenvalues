{
 "cells": [
  {
   "cell_type": "code",
   "execution_count": 9,
   "metadata": {},
   "outputs": [
    {
     "data": {
      "text/plain": [
       "'1.3.1'"
      ]
     },
     "execution_count": 9,
     "metadata": {},
     "output_type": "execute_result"
    }
   ],
   "source": [
    "import torch\n",
    "torch.__version__"
   ]
  },
  {
   "cell_type": "code",
   "execution_count": 18,
   "metadata": {},
   "outputs": [],
   "source": [
    "def subidx(n:int, remove:int) -> list:\n",
    "    out = list(range(n))\n",
    "    out.remove(remove)\n",
    "    return out\n",
    "\n",
    "def submatrix(A:torch.tensor, j:int) -> torch.tensor:\n",
    "    n = A.shape[0]\n",
    "    s = subidx(n, j)\n",
    "    o = A[s, :]\n",
    "    o = o[:, s]\n",
    "    return o\n",
    "\n",
    "def get_eigenvector_val_old(hermitian_matrix, i, j):\n",
    "    lam, v = torch.eig(hermitian_matrix, eigenvectors=True)\n",
    "    old_eigenvector_ij = torch.abs(v[j,i]**2)\n",
    "    \n",
    "    print(f'Old eigenvector ij: {old_eigenvector_ij}')\n",
    "\n",
    "def get_eigenvector_val(hermitian_matrix, i, j):\n",
    "    # New way: torch\n",
    "    lam, v = torch.eig(hermitian_matrix, eigenvectors=False)\n",
    "\n",
    "    n = len(lam)\n",
    "    M = submatrix(hermitian_matrix, j)\n",
    "    lam_submatrix, _ = torch.eig(M)\n",
    "\n",
    "    # Remove 0's\n",
    "    lam = lam[:, 0]\n",
    "    lam_submatrix = lam_submatrix[:, 0]\n",
    "    \n",
    "    # Left side of equation 2\n",
    "    left = torch.prod(torch.tensor([lam[i] - lam[k] for k in range(n) if k!=i]))\n",
    "    # Right side of equation 2\n",
    "    right = torch.prod(torch.tensor([lam[i] - lam_submatrix[k] for k in range(n-1)]))\n",
    "    # Right divided by left\n",
    "    eigenvector_ij = right / left\n",
    "    \n",
    "    print(f'New Eigenvector ij: {eigenvector_ij}')"
   ]
  },
  {
   "cell_type": "code",
   "execution_count": 19,
   "metadata": {},
   "outputs": [
    {
     "name": "stdout",
     "output_type": "stream",
     "text": [
      "Old eigenvector ij: 0.002864641835913062\n",
      "--------------------------------------------------\n",
      "New Eigenvector ij: 0.002861912827938795\n"
     ]
    }
   ],
   "source": [
    "# Random square matrix\n",
    "rand_square_matrix = torch.rand(50, 50)\n",
    "\n",
    "# Hermitian matrix\n",
    "hermitian_matrix = rand_square_matrix * rand_square_matrix.T\n",
    "\n",
    "# Old \n",
    "get_eigenvector_val_old(hermitian_matrix, i=2, j=2)\n",
    "print('-'*50)\n",
    "\n",
    "# New\n",
    "get_eigenvector_val(hermitian_matrix, i=2, j=2)"
   ]
  },
  {
   "cell_type": "code",
   "execution_count": null,
   "metadata": {},
   "outputs": [],
   "source": []
  }
 ],
 "metadata": {
  "kernelspec": {
   "display_name": "Python [conda env:pytorch_p36] *",
   "language": "python",
   "name": "conda-env-pytorch_p36-py"
  },
  "language_info": {
   "codemirror_mode": {
    "name": "ipython",
    "version": 3
   },
   "file_extension": ".py",
   "mimetype": "text/x-python",
   "name": "python",
   "nbconvert_exporter": "python",
   "pygments_lexer": "ipython3",
   "version": "3.6.5"
  }
 },
 "nbformat": 4,
 "nbformat_minor": 2
}
